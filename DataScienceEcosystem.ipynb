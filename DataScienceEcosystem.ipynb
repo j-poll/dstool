{
 "cells": [
  {
   "attachments": {},
   "cell_type": "markdown",
   "id": "09a698fe",
   "metadata": {},
   "source": [
    "# Data Science Tools and Ecosystem"
   ]
  },
  {
   "attachments": {},
   "cell_type": "markdown",
   "id": "d7d4f4ff",
   "metadata": {},
   "source": [
    "In this notebook, Data Science Tools and Ecoystem are summarized."
   ]
  },
  {
   "attachments": {},
   "cell_type": "markdown",
   "id": "87295304",
   "metadata": {},
   "source": [
    "**Objectives:**\n",
    "\n",
    "- List popular languages for Data Science\n",
    "- List commonly used libraries for Data Science\n",
    "- Data Science Tools\n",
    "- Arithmetic expressions in Python"
   ]
  },
  {
   "attachments": {},
   "cell_type": "markdown",
   "id": "192bc088",
   "metadata": {},
   "source": [
    "Some of the popular languages that Data Scientists use are: \n",
    "\n",
    "1) Python\n",
    "2) R\n",
    "3) SQL"
   ]
  },
  {
   "attachments": {},
   "cell_type": "markdown",
   "id": "65af23d5",
   "metadata": {},
   "source": [
    "Some of the commonly used libraries used by Data Scientists include: \n",
    "\n",
    "1) Numpy\n",
    "2) Pandas\n",
    "3) Scikit-learn"
   ]
  },
  {
   "attachments": {},
   "cell_type": "markdown",
   "id": "c16cbd9a",
   "metadata": {},
   "source": [
    "| Data Science Tools | \n",
    "| --- |\n",
    "| RStudio |\n",
    "| Spyder |\n",
    "| VS Code |"
   ]
  },
  {
   "attachments": {},
   "cell_type": "markdown",
   "id": "add44f24",
   "metadata": {},
   "source": [
    "### Below are a few examples of evaluating arithmetic expressions in Python"
   ]
  },
  {
   "cell_type": "code",
   "execution_count": 2,
   "id": "c4d40e0f",
   "metadata": {},
   "outputs": [
    {
     "data": {
      "text/plain": [
       "17"
      ]
     },
     "execution_count": 2,
     "metadata": {},
     "output_type": "execute_result"
    }
   ],
   "source": [
    "#This is a simple arithmetic expression to multiply then add integers.\n",
    "(3*4)+5"
   ]
  },
  {
   "cell_type": "code",
   "execution_count": 3,
   "id": "2ccbac42",
   "metadata": {},
   "outputs": [
    {
     "name": "stdout",
     "output_type": "stream",
     "text": [
      "3.3333333333333335\n"
     ]
    }
   ],
   "source": [
    "#This will convert 200 minutes to hours by dividing by 60\n",
    "minutes = 200\n",
    "hours = minutes/60\n",
    "print(hours)"
   ]
  },
  {
   "attachments": {},
   "cell_type": "markdown",
   "id": "61785abd",
   "metadata": {},
   "source": [
    "## Author: \n",
    "\n",
    "J. Poll. "
   ]
  },
  {
   "cell_type": "code",
   "execution_count": null,
   "id": "565ba15a",
   "metadata": {},
   "outputs": [],
   "source": []
  },
  {
   "cell_type": "markdown",
   "id": "4207d801",
   "metadata": {},
   "source": []
  }
 ],
 "metadata": {
  "kernelspec": {
   "display_name": "Python 3 (ipykernel)",
   "language": "python",
   "name": "python3"
  },
  "language_info": {
   "codemirror_mode": {
    "name": "ipython",
    "version": 3
   },
   "file_extension": ".py",
   "mimetype": "text/x-python",
   "name": "python",
   "nbconvert_exporter": "python",
   "pygments_lexer": "ipython3",
   "version": "3.10.8"
  }
 },
 "nbformat": 4,
 "nbformat_minor": 5
}
